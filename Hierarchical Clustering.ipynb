{
 "cells": [
  {
   "cell_type": "markdown",
   "metadata": {},
   "source": [
    "# Hierarchical Clustering in GenePattern Notebook\n",
    "\n",
    "Cluster genes and/or samples based on how close they are to one another. The result is a tree structure, referred to as dendrogram.\n",
    "\n",
    "## Before you begin\n",
    "\n",
    "* Sign in to GenePattern by entering your username and password into the form below.\n",
    "* Gene expression data must be in a [GCT or RES file](https://genepattern.broadinstitute.org/gp/pages/protocols/GctResFiles.html).\n",
    "    * Example file: [all_aml_test.gct](https://datasets.genepattern.org/data/all_aml/all_aml_test.gct).\n",
    "* Learn more by reading about [file formats](http://www.broadinstitute.org/cancer/software/genepattern/file-formats-guide#GCT).\n"
   ]
  },
  {
   "cell_type": "code",
   "execution_count": 5,
   "metadata": {
    "genepattern": {
     "name": "Login",
     "server": "https://cloud.genepattern.org/gp",
     "type": "auth"
    }
   },
   "outputs": [
    {
     "data": {
      "application/vnd.jupyter.widget-view+json": {
       "model_id": "502441b0fcf44b15acffce5f3295b827",
       "version_major": 2,
       "version_minor": 0
      },
      "text/plain": [
       "GPAuthWidget()"
      ]
     },
     "metadata": {},
     "output_type": "display_data"
    }
   ],
   "source": [
    "# Requires GenePattern Notebook: pip install genepattern-notebook\n",
    "import gp\n",
    "import genepattern\n",
    "\n",
    "# Username and password removed for security reasons.\n",
    "genepattern.display(genepattern.session.register(\"https://cloud.genepattern.org/gp\", \"\", \"\"))"
   ]
  },
  {
   "cell_type": "markdown",
   "metadata": {},
   "source": [
    "## Step 1: PreprocessDataset\n",
    "\n",
    "Preprocess gene expression data to remove platform noise and genes that have little variation. Although researchers generally preprocess data before clustering if doing so removes relevant biological information, skip this step. \n",
    "\n",
    "### Considerations\n",
    "\n",
    "* PreprocessDataset can preprocess the data in one or more ways (in this order):\n",
    "    1. Set threshold and ceiling values. Any value lower/higher than the threshold/ceiling value is reset to the threshold/ceiling value.\n",
    "    2. Convert each expression value to the log base 2 of the value.\n",
    "    3. Remove genes (rows) if a given number of its sample values are less than a given threshold.\n",
    "    4. Remove genes (rows) that do not have a minimum fold change or expression variation.\n",
    "    5. Discretize or normalize the data.\n",
    "* When using ratios to compare gene expression between samples, convert values to log base 2 of the value to bring up- and down-regulated genes to the same scale. For example, ratios of 2 and .5 indicating two-fold changes for up- and down-regulated expression, respectively, are converted to +1 and -1. \n",
    "* If you did not generate the expression data, check whether preprocessing steps have already been taken before running the PreprocessDataset module. \n",
    "* Learn more by reading about the [PreprocessDataset](https://genepattern.broadinstitute.org/gp/getTaskDoc.jsp?name=PreprocessDataset) module."
   ]
  },
  {
   "cell_type": "markdown",
   "metadata": {},
   "source": [
    "<div class=\"alert alert-info\">\n",
    "<p class=\"lead\"> Instructions <i class=\"fa fa-info-circle\"></i></p>\n",
    "Set the *min.fold.change* parameter to 5. Click the run button on the analysis below.\n",
    "</div>"
   ]
  },
  {
   "cell_type": "code",
   "execution_count": 8,
   "metadata": {
    "genepattern": {
     "param_values": {
      "ceiling": null,
      "floor": null,
      "input.filename": null,
      "job.cpuCount": null,
      "job.memory": null,
      "job.queue": null,
      "job.walltime": null,
      "log2.transform": null,
      "min.delta": null,
      "min.fold.change": null,
      "num.outliers.to.exclude": null,
      "number.of.columns.above.threshold": null,
      "output.file": null,
      "output.file.format": null,
      "row.normalization": null,
      "row.sampling.rate": null,
      "threshold.and.filter": null,
      "threshold.for.removing.rows": null
     },
     "type": "task"
    }
   },
   "outputs": [
    {
     "data": {
      "application/vnd.jupyter.widget-view+json": {
       "model_id": "c0102b88421f416ca009c5b4bfeae8e1",
       "version_major": 2,
       "version_minor": 0
      },
      "text/plain": [
       "GPTaskWidget(lsid='urn:lsid:broad.mit.edu:cancer.software.genepattern.module.analysis:00020')"
      ]
     },
     "metadata": {},
     "output_type": "display_data"
    }
   ],
   "source": [
    "preprocessdataset_task = gp.GPTask(genepattern.get_session(0), 'urn:lsid:broad.mit.edu:cancer.software.genepattern.module.analysis:00020')\n",
    "preprocessdataset_job_spec = preprocessdataset_task.make_job_spec()\n",
    "preprocessdataset_job_spec.set_parameter(\"input.filename\", \"https://datasets.genepattern.org/data/all_aml/all_aml_test.gct\")\n",
    "preprocessdataset_job_spec.set_parameter(\"threshold.and.filter\", \"1\")\n",
    "preprocessdataset_job_spec.set_parameter(\"floor\", \"20\")\n",
    "preprocessdataset_job_spec.set_parameter(\"ceiling\", \"20000\")\n",
    "preprocessdataset_job_spec.set_parameter(\"min.fold.change\", \"3\")\n",
    "preprocessdataset_job_spec.set_parameter(\"min.delta\", \"100\")\n",
    "preprocessdataset_job_spec.set_parameter(\"num.outliers.to.exclude\", \"0\")\n",
    "preprocessdataset_job_spec.set_parameter(\"row.normalization\", \"0\")\n",
    "preprocessdataset_job_spec.set_parameter(\"row.sampling.rate\", \"1\")\n",
    "preprocessdataset_job_spec.set_parameter(\"threshold.for.removing.rows\", \"\")\n",
    "preprocessdataset_job_spec.set_parameter(\"number.of.columns.above.threshold\", \"\")\n",
    "preprocessdataset_job_spec.set_parameter(\"log2.transform\", \"0\")\n",
    "preprocessdataset_job_spec.set_parameter(\"output.file.format\", \"3\")\n",
    "preprocessdataset_job_spec.set_parameter(\"output.file\", \"<input.filename_basename>.preprocessed\")\n",
    "genepattern.display(preprocessdataset_task)"
   ]
  },
  {
   "cell_type": "markdown",
   "metadata": {},
   "source": [
    "## Step 2: HierarchicalClustering\n",
    "\n",
    "Run hierarchical clustering on genes and/or samples to create dendrograms for the clustered genes (*.gtr) and/or clustered samples (*.atr), as well as a file (*.cdt) that contains the original gene expression data ordered to reflect the clustering.\n",
    "\n",
    "### Considerations\n",
    "* Best practice is to normalize (row/column normalize parameters) and center (row/column center parameters) the data being clustered. \n",
    "* The CDT output file must be converted to a GCT file before it can be used as an input file for another GenePattern module (other than HierachicalClusteringViewer). For instructions on converting a CDT file to a GCT file, see [Creating Input Files](http://www.broadinstitute.org/cancer/software/genepattern/file-formats-guide#creating-input-files).\n",
    "* Learn more by reading about the [HierarchicalClustering](https://genepattern.broadinstitute.org/gp/getTaskDoc.jsp?name=HierarchicalClustering) module."
   ]
  },
  {
   "cell_type": "markdown",
   "metadata": {},
   "source": [
    "<div class=\"alert alert-info\">\n",
    "<p class=\"lead\"> Instructions <i class=\"fa fa-info-circle\"></i></p>\n",
    "    \n",
    "- After the PreprocessDataset job above finishes running, send the GCT result of that job to HierarchicalClustering below. To do this either drag-and-drop the link for the file above to the *input.filename* input below, or click the link for the file above and select *Send to an Existing GenePattern Cell > HierarchicalClustering* in the menu that appears.\n",
    "    \n",
    "- Once this is done, click Run for the analysis below.\n",
    "</div>"
   ]
  },
  {
   "cell_type": "code",
   "execution_count": 6,
   "metadata": {
    "genepattern": {
     "param_values": {
      "clustering.method": null,
      "column.center": null,
      "column.distance.measure": null,
      "column.normalize": null,
      "input.filename": null,
      "job.cpuCount": null,
      "job.memory": null,
      "job.queue": null,
      "job.walltime": null,
      "log.transform": null,
      "output.base.name": null,
      "row.center": null,
      "row.distance.measure": null,
      "row.normalize": null
     },
     "type": "task"
    }
   },
   "outputs": [
    {
     "data": {
      "application/vnd.jupyter.widget-view+json": {
       "model_id": "18649ee404d5472e8e22fd9657898b4f",
       "version_major": 2,
       "version_minor": 0
      },
      "text/plain": [
       "GPTaskWidget(lsid='urn:lsid:broad.mit.edu:cancer.software.genepattern.module.analysis:00009')"
      ]
     },
     "metadata": {},
     "output_type": "display_data"
    }
   ],
   "source": [
    "hierarchicalclustering_task = gp.GPTask(genepattern.get_session(0), 'urn:lsid:broad.mit.edu:cancer.software.genepattern.module.analysis:00009')\n",
    "hierarchicalclustering_job_spec = hierarchicalclustering_task.make_job_spec()\n",
    "hierarchicalclustering_job_spec.set_parameter(\"input.filename\", \"\")\n",
    "hierarchicalclustering_job_spec.set_parameter(\"column.distance.measure\", \"2\")\n",
    "hierarchicalclustering_job_spec.set_parameter(\"row.distance.measure\", \"0\")\n",
    "hierarchicalclustering_job_spec.set_parameter(\"clustering.method\", \"a\")\n",
    "hierarchicalclustering_job_spec.set_parameter(\"log.transform\", \"\")\n",
    "hierarchicalclustering_job_spec.set_parameter(\"row.center\", \"\")\n",
    "hierarchicalclustering_job_spec.set_parameter(\"row.normalize\", \"\")\n",
    "hierarchicalclustering_job_spec.set_parameter(\"column.center\", \"\")\n",
    "hierarchicalclustering_job_spec.set_parameter(\"column.normalize\", \"\")\n",
    "hierarchicalclustering_job_spec.set_parameter(\"output.base.name\", \"<input.filename_basename>\")\n",
    "genepattern.display(hierarchicalclustering_task)"
   ]
  },
  {
   "cell_type": "markdown",
   "metadata": {},
   "source": [
    "## Step 3: HierarchicalClusteringViewer\n",
    "\n",
    "Display a heat map of the clustered gene expression data, with dendrograms showing how the genes and/or samples were clustered.\n",
    "\n",
    "### Considerations\n",
    "\n",
    "* Select File > Save Image to save the heat map and dendrograms to an image file. Supported formats include bmp, eps, jpeg, png, and tiff. \n",
    "* Learn more by reading about the [HierarchicalClusteringViewer](https://genepattern.broadinstitute.org/gp/getTaskDoc.jsp?name=HierarchicalClusteringViewer) module."
   ]
  },
  {
   "cell_type": "markdown",
   "metadata": {},
   "source": [
    "<div class=\"alert alert-info\">\n",
    "<p class=\"lead\"> Instructions <i class=\"fa fa-info-circle\"></i></p>\n",
    "    \n",
    "- After the HierarchicalClustering job above finishes running, send the CDT and ATR results of that job to HierarchicalClustering below. You will need to scroll back to the HierarchicalClustering job after sending the first file. The GTR file input will be left blank.\n",
    "- Once this is done, click Run for the analysis below.\n",
    "</div>"
   ]
  },
  {
   "cell_type": "code",
   "execution_count": 7,
   "metadata": {
    "genepattern": {
     "param_values": {
      "atr.file": null,
      "cdt.file": null,
      "gtr.file": null,
      "job.cpuCount": null,
      "job.memory": null,
      "job.queue": null,
      "job.walltime": null
     },
     "type": "task"
    }
   },
   "outputs": [
    {
     "data": {
      "application/vnd.jupyter.widget-view+json": {
       "model_id": "7496897a6d50423bb72f673266d6f393",
       "version_major": 2,
       "version_minor": 0
      },
      "text/plain": [
       "GPTaskWidget(lsid='urn:lsid:broad.mit.edu:cancer.software.genepattern.module.visualizer:00031')"
      ]
     },
     "metadata": {},
     "output_type": "display_data"
    }
   ],
   "source": [
    "hierarchicalclusteringviewer_task = gp.GPTask(genepattern.get_session(0), 'urn:lsid:broad.mit.edu:cancer.software.genepattern.module.visualizer:00031')\n",
    "hierarchicalclusteringviewer_job_spec = hierarchicalclusteringviewer_task.make_job_spec()\n",
    "hierarchicalclusteringviewer_job_spec.set_parameter(\"cdt.file\", \"\")\n",
    "hierarchicalclusteringviewer_job_spec.set_parameter(\"gtr.file\", \"\")\n",
    "hierarchicalclusteringviewer_job_spec.set_parameter(\"atr.file\", \"\")\n",
    "genepattern.display(hierarchicalclusteringviewer_task)"
   ]
  }
 ],
 "metadata": {
  "anaconda-cloud": {},
  "kernelspec": {
   "display_name": "Python 3.6",
   "language": "python",
   "name": "python3.6"
  },
  "language_info": {
   "codemirror_mode": {
    "name": "ipython",
    "version": 3
   },
   "file_extension": ".py",
   "mimetype": "text/x-python",
   "name": "python",
   "nbconvert_exporter": "python",
   "pygments_lexer": "ipython3",
   "version": "3.6.11"
  },
  "toc": {
   "base_numbering": 1,
   "nav_menu": {},
   "number_sections": false,
   "sideBar": true,
   "skip_h1_title": false,
   "title_cell": "Table of Contents",
   "title_sidebar": "Contents",
   "toc_cell": false,
   "toc_position": {},
   "toc_section_display": true,
   "toc_window_display": false
  },
  "widgets": {
   "state": {
    "1495d96a37794d8ca09fce981600edc3": {
     "views": [
      {
       "cell_index": 1
      }
     ]
    },
    "170cb6e3714344e38d48f2f5249e922a": {
     "views": [
      {
       "cell_index": 10
      }
     ]
    },
    "84b05238109c46749f28ac12c5ad8477": {
     "views": [
      {
       "cell_index": 7
      }
     ]
    },
    "c3cf3b5b1f8942de9a9f2a211defd103": {
     "views": [
      {
       "cell_index": 4
      }
     ]
    }
   },
   "version": "1.2.0"
  }
 },
 "nbformat": 4,
 "nbformat_minor": 1
}
